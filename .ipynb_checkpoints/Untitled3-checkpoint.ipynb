{
 "cells": [
  {
   "cell_type": "code",
   "execution_count": 2,
   "metadata": {},
   "outputs": [
    {
     "name": "stdout",
     "output_type": "stream",
     "text": [
      "[-59.975 -59.925 -59.875 ...  59.875  59.925  59.975] [-59.975 -59.925 -59.875 ...  59.875  59.925  59.975]\n"
     ]
    }
   ],
   "source": [
    "import netCDF4\n",
    "\n",
    "# Open the netCDF file\n",
    "nc_file = netCDF4.Dataset('/Users/alonhrl/Documents/Alon/MA-MSC/development/eumetsat/S-OSI_-FRA_-MSG_-DLISSIH_____-202201010800Z.nc', 'r')\n",
    "\n",
    "# Retrieve the coordinate variable for the latitude dimension\n",
    "lat_var = nc_file.variables['lat']\n",
    "lats = lat_var[:]\n",
    "\n",
    "# Retrieve the coordinate variable for the longitude dimension\n",
    "lon_var = nc_file.variables['lon']\n",
    "lons = lon_var[:]\n",
    "\n",
    "print(lons, lats)\n"
   ]
  },
  {
   "cell_type": "code",
   "execution_count": null,
   "metadata": {},
   "outputs": [],
   "source": [
    "lats = 34.81\n",
    "lons = 32.00\n",
    "# Determine the indices of the desired coordinates\n",
    "lat_idx = (lats >= lat_min) & (lats <= lat_max)\n",
    "lon_idx = (lons >= lon_min) & (lons <= lon_max)\n",
    "\n",
    "# Retrieve the data at the desired coordinates\n",
    "data_var = nc_file.variables['data']\n",
    "data = data_var[lat_idx, lon_idx]\n",
    "\n",
    "# Close the netCDF file\n",
    "nc_file.close()"
   ]
  }
 ],
 "metadata": {
  "kernelspec": {
   "display_name": "eumetsat",
   "language": "python",
   "name": "eumetsat"
  },
  "language_info": {
   "codemirror_mode": {
    "name": "ipython",
    "version": 3
   },
   "file_extension": ".py",
   "mimetype": "text/x-python",
   "name": "python",
   "nbconvert_exporter": "python",
   "pygments_lexer": "ipython3",
   "version": "3.7.0"
  }
 },
 "nbformat": 4,
 "nbformat_minor": 2
}
