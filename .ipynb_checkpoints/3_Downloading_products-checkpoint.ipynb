{
 "cells": [
  {
   "cell_type": "markdown",
   "metadata": {
    "Collapsed": "false"
   },
   "source": [
    "<img src='./img/DataStore_EUMETSAT.png'/>"
   ]
  },
  {
   "cell_type": "markdown",
   "metadata": {},
   "source": [
    "Copyright (c) 2022 EUMETSAT <br>\n",
    "License: MIT"
   ]
  },
  {
   "cell_type": "markdown",
   "metadata": {
    "Collapsed": "false"
   },
   "source": [
    "<hr>"
   ]
  },
  {
   "cell_type": "markdown",
   "metadata": {
    "Collapsed": "false"
   },
   "source": [
    "<a href=\"./index.ipynb\">← Index</a>\n",
    "<br>\n",
    "<a href=\"./2_Searching_and_filtering_products.ipynb\">← Searching and filtering products</a><span style=\"float:right;\">"
   ]
  },
  {
   "cell_type": "markdown",
   "metadata": {},
   "source": [
    "# Downloading products"
   ]
  },
  {
   "cell_type": "markdown",
   "metadata": {},
   "source": [
    "## What will this module teach you?\n",
    "\n",
    "This module will show you how to:<br>\n",
    "1. Download all products of specific **Collection ID and time**.\n",
    "2. Download a product by **Product ID**.\n",
    "3. Download a **single file** from a product."
   ]
  },
  {
   "cell_type": "markdown",
   "metadata": {},
   "source": [
    "## Selecting and filtering a collection (a recap)\n",
    "As usual, we begin by importing our required modules."
   ]
  },
  {
   "cell_type": "code",
   "execution_count": 7,
   "metadata": {},
   "outputs": [],
   "source": [
    "import eumdac\n",
    "import datetime\n",
    "import shutil\n",
    "import requests"
   ]
  },
  {
   "cell_type": "markdown",
   "metadata": {},
   "source": [
    "Now, we have to authorize with our personal credentials to generate the token."
   ]
  },
  {
   "cell_type": "code",
   "execution_count": 8,
   "metadata": {},
   "outputs": [
    {
     "name": "stdout",
     "output_type": "stream",
     "text": [
      "This token '30a30f69-8bb3-329c-b062-4dc75a6e1bc0' expires 2023-03-23 14:39:05.461181\n"
     ]
    }
   ],
   "source": [
    "# Insert your personal key and secret into the single quotes\n",
    "\n",
    "consumer_key = 'f41HR6Zfq4LRU8p5feSh8bGMaxUa'\n",
    "consumer_secret = 'VIR1k58d_zHoUgkfneFIchv9u6Aa'\n",
    "\n",
    "credentials = (consumer_key, consumer_secret)\n",
    "\n",
    "token = eumdac.AccessToken(credentials)\n",
    "\n",
    "try:\n",
    "    print(f\"This token '{token}' expires {token.expiration}\")\n",
    "except requests.exceptions.HTTPError as error:\n",
    "    print(f\"Error when tryng the request to the server: '{error}'\")"
   ]
  },
  {
   "cell_type": "markdown",
   "metadata": {},
   "source": [
    "<div class=\"alert alert-block alert-success\">\n",
    "<b>NOTE:</b><br />\n",
    "You can find your personal API credentials here: <a href=\"https://api.eumetsat.int/api-key/\">https://api.eumetsat.int/api-key/</a>\n",
    "</div>"
   ]
  },
  {
   "cell_type": "markdown",
   "metadata": {},
   "source": [
    "Let's start to select a collection we want to browse through. For more information on determining which collections are available, see the previous tutorial, <a href=\"./1_Discovering_collections.ipynb\">Discovering collections</a>"
   ]
  },
  {
   "cell_type": "code",
   "execution_count": 10,
   "metadata": {},
   "outputs": [
    {
     "name": "stdout",
     "output_type": "stream",
     "text": [
      "EO:EUM:DAT:0241 - Climate-quality Advanced Microwave Radiometer Level 2 Products (baseline version F06) - Sentinel-6 - Reprocessed\n"
     ]
    }
   ],
   "source": [
    "datastore = eumdac.DataStore(token)\n",
    "\n",
    "try:    \n",
    "    selected_collection = datastore.get_collection('EO:EUM:DAT:MSG:HRSEVIRI')\n",
    "    print(f\"{selected_collection} - {selected_collection.title}\")\n",
    "except eumdac.datastore.DataStoreError as error:\n",
    "    print(f\"Error related to the data store: '{error.msg}'\")\n",
    "except eumdac.collection.CollectionError as error:\n",
    "    print(f\"Error related to the collection: '{error.msg}'\")\n",
    "except requests.exceptions.RequestException as error:\n",
    "    print(f\"Unexpected error: {error}\")"
   ]
  },
  {
   "cell_type": "markdown",
   "metadata": {},
   "source": [
    "<div class=\"alert alert-block alert-success\">\n",
    "<b>NOTE:</b><br />\n",
    "Find more information about EUMDAC errors, their causes and possible solutions, in our knowledge base: <a href=\"https://eumetsatspace.atlassian.net/wiki/spaces/EUMDAC/pages/1957134337/Exception+handling\">https://eumetsatspace.atlassian.net/wiki/spaces/EUMDAC/pages/1957134337/Exception+handling</a>\n",
    "</div>"
   ]
  },
  {
   "cell_type": "markdown",
   "metadata": {},
   "source": [
    "The previous tutorial also showed us how to select a collection and filter it for products of interest using both time and space. As we are using a GEO product for our examples, there is no need for us to set a bounding box. However, we are going to perform a similar operation using time filtering so that we can set up a download. So, lets run our query to get our product IDs."
   ]
  },
  {
   "cell_type": "code",
   "execution_count": 5,
   "metadata": {},
   "outputs": [
    {
     "name": "stdout",
     "output_type": "stream",
     "text": [
      "MSG4-SEVI-MSG15-0100-NA-20211110085742.000000000Z-NA\n",
      "MSG4-SEVI-MSG15-0100-NA-20211110084242.255000000Z-NA\n",
      "MSG4-SEVI-MSG15-0100-NA-20211110082742.510000000Z-NA\n",
      "MSG4-SEVI-MSG15-0100-NA-20211110081242.766000000Z-NA\n"
     ]
    }
   ],
   "source": [
    "# Set sensing start and end time\n",
    "start = datetime.datetime(2021, 11, 10, 8, 0)\n",
    "end = datetime.datetime(2021, 11, 10, 9, 0)\n",
    "\n",
    "# Retrieve datasets that match our filter\n",
    "products = selected_collection.search(\n",
    "    dtstart=start,\n",
    "    dtend=end)\n",
    "\n",
    "for product in products:\n",
    "    try:\n",
    "        print(product)\n",
    "    except eumdac.collection.CollectionError as error:\n",
    "        print(f\"Error related to the collection: '{error.msg}'\")\n",
    "    except requests.exceptions.RequestException as error:\n",
    "        print(f\"Unexpected error: {error}\")"
   ]
  },
  {
   "cell_type": "markdown",
   "metadata": {},
   "source": [
    "Hopefully we have found some datasets. If not, please adapt your search parameters until you have. In the following sections we will look at ways of downloading these."
   ]
  },
  {
   "cell_type": "markdown",
   "metadata": {},
   "source": [
    "## Downloading products\n",
    "Products can be downloaded by providing either their product ID, or a combination of their collection ID and the time of acquisition. We can download entire products, or specific file components (e.g. metadata only). The cells below give three **independant** examples for all these methods."
   ]
  },
  {
   "cell_type": "markdown",
   "metadata": {},
   "source": [
    "### Download all products from search"
   ]
  },
  {
   "cell_type": "markdown",
   "metadata": {},
   "source": [
    "We have now found our relevant products. Now we would like to download all of them without having to select every single product. For this we can simply loop over the products and save the products as files in our directory."
   ]
  },
  {
   "cell_type": "code",
   "execution_count": 6,
   "metadata": {},
   "outputs": [
    {
     "name": "stdout",
     "output_type": "stream",
     "text": [
      "Download of product MSG4-SEVI-MSG15-0100-NA-20211110085742.000000000Z-NA finished.\n"
     ]
    },
    {
     "ename": "KeyboardInterrupt",
     "evalue": "",
     "output_type": "error",
     "traceback": [
      "\u001b[0;31m---------------------------------------------------------------------------\u001b[0m",
      "\u001b[0;31mKeyboardInterrupt\u001b[0m                         Traceback (most recent call last)",
      "\u001b[0;32m<ipython-input-6-4d63697061b5>\u001b[0m in \u001b[0;36m<module>\u001b[0;34m\u001b[0m\n\u001b[1;32m      3\u001b[0m         \u001b[0;32mwith\u001b[0m \u001b[0mproduct\u001b[0m\u001b[0;34m.\u001b[0m\u001b[0mopen\u001b[0m\u001b[0;34m(\u001b[0m\u001b[0;34m)\u001b[0m \u001b[0;32mas\u001b[0m \u001b[0mfsrc\u001b[0m\u001b[0;34m,\u001b[0m\u001b[0;31m \u001b[0m\u001b[0;31m\\\u001b[0m\u001b[0;34m\u001b[0m\u001b[0m\n\u001b[1;32m      4\u001b[0m                 \u001b[0mopen\u001b[0m\u001b[0;34m(\u001b[0m\u001b[0mfsrc\u001b[0m\u001b[0;34m.\u001b[0m\u001b[0mname\u001b[0m\u001b[0;34m,\u001b[0m \u001b[0mmode\u001b[0m\u001b[0;34m=\u001b[0m\u001b[0;34m'wb'\u001b[0m\u001b[0;34m)\u001b[0m \u001b[0;32mas\u001b[0m \u001b[0mfdst\u001b[0m\u001b[0;34m:\u001b[0m\u001b[0;34m\u001b[0m\u001b[0m\n\u001b[0;32m----> 5\u001b[0;31m             \u001b[0mshutil\u001b[0m\u001b[0;34m.\u001b[0m\u001b[0mcopyfileobj\u001b[0m\u001b[0;34m(\u001b[0m\u001b[0mfsrc\u001b[0m\u001b[0;34m,\u001b[0m \u001b[0mfdst\u001b[0m\u001b[0;34m)\u001b[0m\u001b[0;34m\u001b[0m\u001b[0m\n\u001b[0m\u001b[1;32m      6\u001b[0m             \u001b[0mprint\u001b[0m\u001b[0;34m(\u001b[0m\u001b[0;34mf'Download of product {product} finished.'\u001b[0m\u001b[0;34m)\u001b[0m\u001b[0;34m\u001b[0m\u001b[0m\n\u001b[1;32m      7\u001b[0m     \u001b[0;32mexcept\u001b[0m \u001b[0meumdac\u001b[0m\u001b[0;34m.\u001b[0m\u001b[0mproduct\u001b[0m\u001b[0;34m.\u001b[0m\u001b[0mProductError\u001b[0m \u001b[0;32mas\u001b[0m \u001b[0merror\u001b[0m\u001b[0;34m:\u001b[0m\u001b[0;34m\u001b[0m\u001b[0m\n",
      "\u001b[0;32m/Library/Frameworks/Python.framework/Versions/3.7/lib/python3.7/shutil.py\u001b[0m in \u001b[0;36mcopyfileobj\u001b[0;34m(fsrc, fdst, length)\u001b[0m\n\u001b[1;32m     77\u001b[0m     \u001b[0;34m\"\"\"copy data from file-like object fsrc to file-like object fdst\"\"\"\u001b[0m\u001b[0;34m\u001b[0m\u001b[0m\n\u001b[1;32m     78\u001b[0m     \u001b[0;32mwhile\u001b[0m \u001b[0;36m1\u001b[0m\u001b[0;34m:\u001b[0m\u001b[0;34m\u001b[0m\u001b[0m\n\u001b[0;32m---> 79\u001b[0;31m         \u001b[0mbuf\u001b[0m \u001b[0;34m=\u001b[0m \u001b[0mfsrc\u001b[0m\u001b[0;34m.\u001b[0m\u001b[0mread\u001b[0m\u001b[0;34m(\u001b[0m\u001b[0mlength\u001b[0m\u001b[0;34m)\u001b[0m\u001b[0;34m\u001b[0m\u001b[0m\n\u001b[0m\u001b[1;32m     80\u001b[0m         \u001b[0;32mif\u001b[0m \u001b[0;32mnot\u001b[0m \u001b[0mbuf\u001b[0m\u001b[0;34m:\u001b[0m\u001b[0;34m\u001b[0m\u001b[0m\n\u001b[1;32m     81\u001b[0m             \u001b[0;32mbreak\u001b[0m\u001b[0;34m\u001b[0m\u001b[0m\n",
      "\u001b[0;32m/Library/Frameworks/Python.framework/Versions/3.7/lib/python3.7/site-packages/urllib3/response.py\u001b[0m in \u001b[0;36mread\u001b[0;34m(self, amt, decode_content, cache_content)\u001b[0m\n\u001b[1;32m    411\u001b[0m             \u001b[0;32melse\u001b[0m\u001b[0;34m:\u001b[0m\u001b[0;34m\u001b[0m\u001b[0m\n\u001b[1;32m    412\u001b[0m                 \u001b[0mcache_content\u001b[0m \u001b[0;34m=\u001b[0m \u001b[0;32mFalse\u001b[0m\u001b[0;34m\u001b[0m\u001b[0m\n\u001b[0;32m--> 413\u001b[0;31m                 \u001b[0mdata\u001b[0m \u001b[0;34m=\u001b[0m \u001b[0mself\u001b[0m\u001b[0;34m.\u001b[0m\u001b[0m_fp\u001b[0m\u001b[0;34m.\u001b[0m\u001b[0mread\u001b[0m\u001b[0;34m(\u001b[0m\u001b[0mamt\u001b[0m\u001b[0;34m)\u001b[0m\u001b[0;34m\u001b[0m\u001b[0m\n\u001b[0m\u001b[1;32m    414\u001b[0m                 \u001b[0;32mif\u001b[0m \u001b[0mamt\u001b[0m \u001b[0;34m!=\u001b[0m \u001b[0;36m0\u001b[0m \u001b[0;32mand\u001b[0m \u001b[0;32mnot\u001b[0m \u001b[0mdata\u001b[0m\u001b[0;34m:\u001b[0m  \u001b[0;31m# Platform-specific: Buggy versions of Python.\u001b[0m\u001b[0;34m\u001b[0m\u001b[0m\n\u001b[1;32m    415\u001b[0m                     \u001b[0;31m# Close the connection when no data is returned\u001b[0m\u001b[0;34m\u001b[0m\u001b[0;34m\u001b[0m\u001b[0m\n",
      "\u001b[0;32m/Library/Frameworks/Python.framework/Versions/3.7/lib/python3.7/http/client.py\u001b[0m in \u001b[0;36mread\u001b[0;34m(self, amt)\u001b[0m\n\u001b[1;32m    445\u001b[0m             \u001b[0;31m# Amount is given, implement using readinto\u001b[0m\u001b[0;34m\u001b[0m\u001b[0;34m\u001b[0m\u001b[0m\n\u001b[1;32m    446\u001b[0m             \u001b[0mb\u001b[0m \u001b[0;34m=\u001b[0m \u001b[0mbytearray\u001b[0m\u001b[0;34m(\u001b[0m\u001b[0mamt\u001b[0m\u001b[0;34m)\u001b[0m\u001b[0;34m\u001b[0m\u001b[0m\n\u001b[0;32m--> 447\u001b[0;31m             \u001b[0mn\u001b[0m \u001b[0;34m=\u001b[0m \u001b[0mself\u001b[0m\u001b[0;34m.\u001b[0m\u001b[0mreadinto\u001b[0m\u001b[0;34m(\u001b[0m\u001b[0mb\u001b[0m\u001b[0;34m)\u001b[0m\u001b[0;34m\u001b[0m\u001b[0m\n\u001b[0m\u001b[1;32m    448\u001b[0m             \u001b[0;32mreturn\u001b[0m \u001b[0mmemoryview\u001b[0m\u001b[0;34m(\u001b[0m\u001b[0mb\u001b[0m\u001b[0;34m)\u001b[0m\u001b[0;34m[\u001b[0m\u001b[0;34m:\u001b[0m\u001b[0mn\u001b[0m\u001b[0;34m]\u001b[0m\u001b[0;34m.\u001b[0m\u001b[0mtobytes\u001b[0m\u001b[0;34m(\u001b[0m\u001b[0;34m)\u001b[0m\u001b[0;34m\u001b[0m\u001b[0m\n\u001b[1;32m    449\u001b[0m         \u001b[0;32melse\u001b[0m\u001b[0;34m:\u001b[0m\u001b[0;34m\u001b[0m\u001b[0m\n",
      "\u001b[0;32m/Library/Frameworks/Python.framework/Versions/3.7/lib/python3.7/http/client.py\u001b[0m in \u001b[0;36mreadinto\u001b[0;34m(self, b)\u001b[0m\n\u001b[1;32m    489\u001b[0m         \u001b[0;31m# connection, and the user is reading more bytes than will be provided\u001b[0m\u001b[0;34m\u001b[0m\u001b[0;34m\u001b[0m\u001b[0m\n\u001b[1;32m    490\u001b[0m         \u001b[0;31m# (for example, reading in 1k chunks)\u001b[0m\u001b[0;34m\u001b[0m\u001b[0;34m\u001b[0m\u001b[0m\n\u001b[0;32m--> 491\u001b[0;31m         \u001b[0mn\u001b[0m \u001b[0;34m=\u001b[0m \u001b[0mself\u001b[0m\u001b[0;34m.\u001b[0m\u001b[0mfp\u001b[0m\u001b[0;34m.\u001b[0m\u001b[0mreadinto\u001b[0m\u001b[0;34m(\u001b[0m\u001b[0mb\u001b[0m\u001b[0;34m)\u001b[0m\u001b[0;34m\u001b[0m\u001b[0m\n\u001b[0m\u001b[1;32m    492\u001b[0m         \u001b[0;32mif\u001b[0m \u001b[0;32mnot\u001b[0m \u001b[0mn\u001b[0m \u001b[0;32mand\u001b[0m \u001b[0mb\u001b[0m\u001b[0;34m:\u001b[0m\u001b[0;34m\u001b[0m\u001b[0m\n\u001b[1;32m    493\u001b[0m             \u001b[0;31m# Ideally, we would raise IncompleteRead if the content-length\u001b[0m\u001b[0;34m\u001b[0m\u001b[0;34m\u001b[0m\u001b[0m\n",
      "\u001b[0;32m/Library/Frameworks/Python.framework/Versions/3.7/lib/python3.7/socket.py\u001b[0m in \u001b[0;36mreadinto\u001b[0;34m(self, b)\u001b[0m\n\u001b[1;32m    587\u001b[0m         \u001b[0;32mwhile\u001b[0m \u001b[0;32mTrue\u001b[0m\u001b[0;34m:\u001b[0m\u001b[0;34m\u001b[0m\u001b[0m\n\u001b[1;32m    588\u001b[0m             \u001b[0;32mtry\u001b[0m\u001b[0;34m:\u001b[0m\u001b[0;34m\u001b[0m\u001b[0m\n\u001b[0;32m--> 589\u001b[0;31m                 \u001b[0;32mreturn\u001b[0m \u001b[0mself\u001b[0m\u001b[0;34m.\u001b[0m\u001b[0m_sock\u001b[0m\u001b[0;34m.\u001b[0m\u001b[0mrecv_into\u001b[0m\u001b[0;34m(\u001b[0m\u001b[0mb\u001b[0m\u001b[0;34m)\u001b[0m\u001b[0;34m\u001b[0m\u001b[0m\n\u001b[0m\u001b[1;32m    590\u001b[0m             \u001b[0;32mexcept\u001b[0m \u001b[0mtimeout\u001b[0m\u001b[0;34m:\u001b[0m\u001b[0;34m\u001b[0m\u001b[0m\n\u001b[1;32m    591\u001b[0m                 \u001b[0mself\u001b[0m\u001b[0;34m.\u001b[0m\u001b[0m_timeout_occurred\u001b[0m \u001b[0;34m=\u001b[0m \u001b[0;32mTrue\u001b[0m\u001b[0;34m\u001b[0m\u001b[0m\n",
      "\u001b[0;32m/Library/Frameworks/Python.framework/Versions/3.7/lib/python3.7/ssl.py\u001b[0m in \u001b[0;36mrecv_into\u001b[0;34m(self, buffer, nbytes, flags)\u001b[0m\n\u001b[1;32m   1047\u001b[0m                   \u001b[0;34m\"non-zero flags not allowed in calls to recv_into() on %s\"\u001b[0m \u001b[0;34m%\u001b[0m\u001b[0;34m\u001b[0m\u001b[0m\n\u001b[1;32m   1048\u001b[0m                   self.__class__)\n\u001b[0;32m-> 1049\u001b[0;31m             \u001b[0;32mreturn\u001b[0m \u001b[0mself\u001b[0m\u001b[0;34m.\u001b[0m\u001b[0mread\u001b[0m\u001b[0;34m(\u001b[0m\u001b[0mnbytes\u001b[0m\u001b[0;34m,\u001b[0m \u001b[0mbuffer\u001b[0m\u001b[0;34m)\u001b[0m\u001b[0;34m\u001b[0m\u001b[0m\n\u001b[0m\u001b[1;32m   1050\u001b[0m         \u001b[0;32melse\u001b[0m\u001b[0;34m:\u001b[0m\u001b[0;34m\u001b[0m\u001b[0m\n\u001b[1;32m   1051\u001b[0m             \u001b[0;32mreturn\u001b[0m \u001b[0msuper\u001b[0m\u001b[0;34m(\u001b[0m\u001b[0;34m)\u001b[0m\u001b[0;34m.\u001b[0m\u001b[0mrecv_into\u001b[0m\u001b[0;34m(\u001b[0m\u001b[0mbuffer\u001b[0m\u001b[0;34m,\u001b[0m \u001b[0mnbytes\u001b[0m\u001b[0;34m,\u001b[0m \u001b[0mflags\u001b[0m\u001b[0;34m)\u001b[0m\u001b[0;34m\u001b[0m\u001b[0m\n",
      "\u001b[0;32m/Library/Frameworks/Python.framework/Versions/3.7/lib/python3.7/ssl.py\u001b[0m in \u001b[0;36mread\u001b[0;34m(self, len, buffer)\u001b[0m\n\u001b[1;32m    906\u001b[0m         \u001b[0;32mtry\u001b[0m\u001b[0;34m:\u001b[0m\u001b[0;34m\u001b[0m\u001b[0m\n\u001b[1;32m    907\u001b[0m             \u001b[0;32mif\u001b[0m \u001b[0mbuffer\u001b[0m \u001b[0;32mis\u001b[0m \u001b[0;32mnot\u001b[0m \u001b[0;32mNone\u001b[0m\u001b[0;34m:\u001b[0m\u001b[0;34m\u001b[0m\u001b[0m\n\u001b[0;32m--> 908\u001b[0;31m                 \u001b[0;32mreturn\u001b[0m \u001b[0mself\u001b[0m\u001b[0;34m.\u001b[0m\u001b[0m_sslobj\u001b[0m\u001b[0;34m.\u001b[0m\u001b[0mread\u001b[0m\u001b[0;34m(\u001b[0m\u001b[0mlen\u001b[0m\u001b[0;34m,\u001b[0m \u001b[0mbuffer\u001b[0m\u001b[0;34m)\u001b[0m\u001b[0;34m\u001b[0m\u001b[0m\n\u001b[0m\u001b[1;32m    909\u001b[0m             \u001b[0;32melse\u001b[0m\u001b[0;34m:\u001b[0m\u001b[0;34m\u001b[0m\u001b[0m\n\u001b[1;32m    910\u001b[0m                 \u001b[0;32mreturn\u001b[0m \u001b[0mself\u001b[0m\u001b[0;34m.\u001b[0m\u001b[0m_sslobj\u001b[0m\u001b[0;34m.\u001b[0m\u001b[0mread\u001b[0m\u001b[0;34m(\u001b[0m\u001b[0mlen\u001b[0m\u001b[0;34m)\u001b[0m\u001b[0;34m\u001b[0m\u001b[0m\n",
      "\u001b[0;31mKeyboardInterrupt\u001b[0m: "
     ]
    }
   ],
   "source": [
    "for product in products:\n",
    "    try:\n",
    "        with product.open() as fsrc, \\\n",
    "                open(fsrc.name, mode='wb') as fdst:\n",
    "            shutil.copyfileobj(fsrc, fdst)\n",
    "            print(f'Download of product {product} finished.')\n",
    "    except eumdac.product.ProductError as error:\n",
    "        print(f\"Error related to the product '{product}' while trying to download it: '{error.msg}'\")\n",
    "    except requests.exceptions.RequestException as error:\n",
    "        print(f\"Unexpected error: {error}\")\n",
    "    \n",
    "print('All downloads are finished.')"
   ]
  },
  {
   "cell_type": "markdown",
   "metadata": {},
   "source": [
    "### Download a single product"
   ]
  },
  {
   "cell_type": "markdown",
   "metadata": {},
   "source": [
    "Sometimes, however, we only need one specific product from the collection. For this we just search for the product in the collection."
   ]
  },
  {
   "cell_type": "code",
   "execution_count": 12,
   "metadata": {},
   "outputs": [
    {
     "name": "stdout",
     "output_type": "stream",
     "text": [
      "MSG4-SEVI-MSG15-0100-NA-20211110081242.766000000Z-NA\n"
     ]
    }
   ],
   "source": [
    "selected_product = datastore.get_product(\n",
    "    product_id='MSG4-SEVI-MSG15-0100-NA-20211110081242.766000000Z-NA',\n",
    "    collection_id='EO:EUM:DAT:MSG:HRSEVIRI')\n",
    "\n",
    "try:\n",
    "    print(selected_product) \n",
    "except eumdac.product.ProductError as error:\n",
    "        print(f\"Error related to the product: '{error.msg}'\")\n",
    "except requests.exceptions.RequestException as error:\n",
    "    print(f\"Unexpected error: {error}\")"
   ]
  },
  {
   "cell_type": "code",
   "execution_count": 13,
   "metadata": {},
   "outputs": [
    {
     "name": "stdout",
     "output_type": "stream",
     "text": [
      "Download of product MSG4-SEVI-MSG15-0100-NA-20211110081242.766000000Z-NA finished.\n"
     ]
    }
   ],
   "source": [
    "try:\n",
    "    with selected_product.open() as fsrc, \\\n",
    "            open(fsrc.name, mode='wb') as fdst:\n",
    "        shutil.copyfileobj(fsrc, fdst)\n",
    "    print(f'Download of product {selected_product} finished.')\n",
    "except eumdac.product.ProductError as error:\n",
    "    print(f\"Error related to the product '{selected_product}' while trying to download it: '{error.msg}'\")\n",
    "except requests.exceptions.RequestException as error:\n",
    "    print(f\"Unexpected error: {error}\")"
   ]
  },
  {
   "cell_type": "markdown",
   "metadata": {},
   "source": [
    "### Download a single file from product"
   ]
  },
  {
   "cell_type": "markdown",
   "metadata": {},
   "source": [
    "Products are often made up or many files. Sometimes we just want to have a single file. Let's see the files inside the product first."
   ]
  },
  {
   "cell_type": "code",
   "execution_count": 14,
   "metadata": {},
   "outputs": [
    {
     "name": "stdout",
     "output_type": "stream",
     "text": [
      "EOPMetadata.xml\n",
      "MSG4-SEVI-MSG15-0100-NA-20211110081242.766000000Z-NA.nat\n",
      "manifest.xml\n"
     ]
    }
   ],
   "source": [
    "for entry in selected_product.entries:\n",
    "    try:\n",
    "        print(entry)\n",
    "    except eumdac.product.ProductError as error:\n",
    "        print(f\"Error related to the product: '{error.msg}'\")\n",
    "    except requests.exceptions.RequestException as error:\n",
    "        print(f\"Unexpected error: {error}\")"
   ]
  },
  {
   "cell_type": "markdown",
   "metadata": {},
   "source": [
    "Files within the product may be downloaded by providing the file's name, as demonstrated in the cell below."
   ]
  },
  {
   "cell_type": "code",
   "execution_count": 15,
   "metadata": {},
   "outputs": [
    {
     "name": "stdout",
     "output_type": "stream",
     "text": [
      "Download of file EOPMetadata.xml finished.\n"
     ]
    }
   ],
   "source": [
    "try:\n",
    "    with selected_product.open(entry='EOPMetadata.xml') as fsrc, \\\n",
    "            open(fsrc.name, mode='wb') as fdst:\n",
    "        shutil.copyfileobj(fsrc, fdst)\n",
    "        print(f'Download of file {fsrc.name} finished.')\n",
    "except eumdac.product.ProductError as error:\n",
    "    print(f\"Error related to the product '{selected_product}' while trying to download it: '{error.msg}'\")\n",
    "except requests.exceptions.RequestException as error:\n",
    "    print(f\"Unexpected error: {error}\")"
   ]
  },
  {
   "cell_type": "markdown",
   "metadata": {},
   "source": [
    "And now we can open this file:"
   ]
  },
  {
   "cell_type": "code",
   "execution_count": 16,
   "metadata": {},
   "outputs": [
    {
     "name": "stdout",
     "output_type": "stream",
     "text": [
      "<?xml version=\"1.0\" encoding=\"UTF-8\"?>\n",
      "<eum:EarthObservation xmlns:gml=\"http://www.opengis.net/gml/3.2\"\n",
      "                      xmlns:eop=\"http://www.opengis.net/eop/2.1\"\n",
      "                      xmlns:om=\"http://www.opengis.net/om/2.0\"\n",
      "                      xmlns:ows=\"http://www.opengis.net/ows/2.0\"\n",
      "                      xmlns:xlink=\"http://www.w3.org/1999/xlink\"\n",
      "                      xmlns:eu=\"http://www.eumetsat.int/sentinel\"\n",
      "                      xmlns:eum=\"http://www.eumetsat.int/eop/1.0\"\n",
      "                      gml:id=\"idSIPMetadata_2_1\">\n",
      "   <om:phenomenonTime>\n",
      "      <gml:TimePeriod gml:id=\"phenomenonTime\">\n",
      "         <gml:beginPosition>2021-11-10T08:00:10.065000000Z</gml:beginPosition>\n",
      "         <gml:endPosition>2021-11-10T08:12:42.766000000Z</gml:endPosition>\n",
      "      </gml:TimePeriod>\n",
      "   </om:phenomenonTime>\n",
      "   <om:resultTime>\n",
      "      <gml:TimeInstant gml:id=\"resultTime\">\n",
      "         <gml:timePosition>2021-11-10T08:12:42.766000000Z</gml:timePosition>\n",
      "      </gml:TimeInstant>\n",
      "   </om:resultTime>\n",
      "   <om:procedure>\n",
      "      <eop:EarthObservationEquipment gml:id=\"procedure\">\n",
      "         <eop:platform>\n",
      "            <eop:Platform>\n",
      "               <eop:shortName>MSG4</eop:shortName>\n",
      "               <eop:orbitType>GEO</eop:orbitType>\n",
      "            </eop:Platform>\n",
      "         </eop:platform>\n",
      "         <eop:instrument>\n",
      "            <eop:Instrument>\n",
      "               <eop:shortName>SEVIRI</eop:shortName>\n",
      "            </eop:Instrument>\n",
      "         </eop:instrument>\n",
      "         <eop:sensor>\n",
      "            <eop:Sensor>\n",
      "               <eop:operationalMode>FSS</eop:operationalMode>\n",
      "            </eop:Sensor>\n",
      "         </eop:sensor>\n",
      "      </eop:EarthObservationEquipment>\n",
      "   </om:procedure>\n",
      "   <om:observedProperty nilReason=\"inapplicable\"/>\n",
      "   <om:featureOfInterest>\n",
      "      <eop:Footprint gml:id=\"footprint\">\n",
      "         <eop:multiExtentOf nilReason=\"inapplicable\"/>\n",
      "         <eop:centerOf>\n",
      "            <gml:Point gml:id=\"centerOf\" srsName=\"EPSG:4326\">\n",
      "               <gml:pos>0 0</gml:pos>\n",
      "            </gml:Point>\n",
      "         </eop:centerOf>\n",
      "      </eop:Footprint>\n",
      "   </om:featureOfInterest>\n",
      "   <om:result>\n",
      "      <eop:EarthObservationResult gml:id=\"result\">\n",
      "         <eop:product>\n",
      "            <eop:ProductInformation>\n",
      "               <eop:fileName>\n",
      "                  <ows:ServiceReference xlink:href=\"MSG4-SEVI-MSG15-0100-NA-20211110081242.766000000Z-NA\">\n",
      "                     <ows:Identifier>MSG4-SEVI-MSG15-0100-NA-20211110081242.766000000Z-NA</ows:Identifier>\n",
      "                     <ows:RequestMessage/>\n",
      "                  </ows:ServiceReference>\n",
      "               </eop:fileName>\n",
      "               <eop:version>1</eop:version>\n",
      "               <eop:size uom=\"KB\">264824</eop:size>\n",
      "               <eop:timeliness>NOMINAL</eop:timeliness>\n",
      "            </eop:ProductInformation>\n",
      "         </eop:product>\n",
      "      </eop:EarthObservationResult>\n",
      "   </om:result>\n",
      "   <eop:metaDataProperty>\n",
      "      <eum:EarthObservationMetaData>\n",
      "         <eop:identifier>MSG4-SEVI-MSG15-0100-NA-20211110081242.766000000Z-NA</eop:identifier>\n",
      "         <eop:parentIdentifier>EO:EUM:DAT:MSG:HRSEVIRI</eop:parentIdentifier>\n",
      "         <eop:acquisitionType>NOMINAL</eop:acquisitionType>\n",
      "         <eop:acquisitionSubType>O</eop:acquisitionSubType>\n",
      "         <eop:productType>MSG15</eop:productType>\n",
      "         <eop:status>ACQUIRED</eop:status>\n",
      "         <eop:downlinkedTo>\n",
      "            <eop:DownlinkInformation>\n",
      "               <eop:acquisitionStation codeSpace=\"urn:eop:EUM:stationCode\">PGS</eop:acquisitionStation>\n",
      "               <eop:acquisitionDate>2021-11-10T08:12:42.766000000Z</eop:acquisitionDate>\n",
      "            </eop:DownlinkInformation>\n",
      "         </eop:downlinkedTo>\n",
      "         <eop:productQualityStatus>NOMINAL</eop:productQualityStatus>\n",
      "         <eop:histograms>\n",
      "            <eop:Histogram>\n",
      "               <eop:bandId>XXXXXXXXXXXX</eop:bandId>\n",
      "               <eop:min>-1</eop:min>\n",
      "               <eop:max>-1</eop:max>\n",
      "            </eop:Histogram>\n",
      "         </eop:histograms>\n",
      "         <eop:processing>\n",
      "            <eop:ProcessingInformation>\n",
      "               <eop:processingCenter>EUM</eop:processingCenter>\n",
      "               <eop:processingDate>2021-11-10T08:12:59Z</eop:processingDate>\n",
      "               <eop:processorName>IDPF-I</eop:processorName>\n",
      "               <eop:processorVersion>NA</eop:processorVersion>\n",
      "               <eop:nativeProductFormat>MSGNative</eop:nativeProductFormat>\n",
      "               <eop:processingMode>N</eop:processingMode>\n",
      "            </eop:ProcessingInformation>\n",
      "         </eop:processing>\n",
      "         <eum:granuleType>DP</eum:granuleType>\n",
      "         <eum:processingLevel>15</eum:processingLevel>\n",
      "         <eum:missingData uom=\"Percentage\">0</eum:missingData>\n",
      "      </eum:EarthObservationMetaData>\n",
      "   </eop:metaDataProperty>\n",
      "</eum:EarthObservation>\n",
      "\n"
     ]
    }
   ],
   "source": [
    "with open('EOPMetadata.xml') as f:\n",
    "    print(f.read())"
   ]
  },
  {
   "cell_type": "markdown",
   "metadata": {},
   "source": [
    "Now we know how to download products!"
   ]
  },
  {
   "cell_type": "markdown",
   "metadata": {},
   "source": [
    "<a href=\"./index.ipynb\">← Index</a>\n",
    "<br>\n",
    "<a href=\"./2_Searching_and_filtering_products.ipynb\">← Searching and filtering products</a><span style=\"float:right;\">"
   ]
  },
  {
   "cell_type": "markdown",
   "metadata": {
    "Collapsed": "false"
   },
   "source": [
    "<hr>"
   ]
  },
  {
   "cell_type": "markdown",
   "metadata": {
    "Collapsed": "false"
   },
   "source": [
    "<p style=\"text-align:left;\">This project is licensed under the <a href=\"./LICENSE.txt\">MIT License</a> | <span style=\"float:right;\"><a href=\"https://gitlab.eumetsat.int/eumetlab/data-services/\">View on GitLab</a> | <a href=\"https://training.eumetsat.int/\">EUMETSAT Training</a> | <a href=mailto:ops@eumetsat.int>Contact</a></span></p>"
   ]
  }
 ],
 "metadata": {
  "kernelspec": {
   "display_name": "eumetsat",
   "language": "python",
   "name": "eumetsat"
  },
  "language_info": {
   "codemirror_mode": {
    "name": "ipython",
    "version": 3
   },
   "file_extension": ".py",
   "mimetype": "text/x-python",
   "name": "python",
   "nbconvert_exporter": "python",
   "pygments_lexer": "ipython3",
   "version": "3.7.0"
  }
 },
 "nbformat": 4,
 "nbformat_minor": 4
}
