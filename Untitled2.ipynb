{
 "cells": [
  {
   "cell_type": "code",
   "execution_count": 1,
   "id": "37f6296f",
   "metadata": {},
   "outputs": [
    {
     "name": "stderr",
     "output_type": "stream",
     "text": [
      "usage: ipykernel_launcher.py [-h] [-indir INPUTDIR] [-v]\n",
      "ipykernel_launcher.py: error: unrecognized arguments: -f /Users/alonhrl/Library/Jupyter/runtime/kernel-4cf74099-ec55-4a65-b4f6-3e1552839dd4.json\n"
     ]
    },
    {
     "ename": "SystemExit",
     "evalue": "2",
     "output_type": "error",
     "traceback": [
      "An exception has occurred, use %tb to see the full traceback.\n",
      "\u001b[0;31mSystemExit\u001b[0m\u001b[0;31m:\u001b[0m 2\n"
     ]
    },
    {
     "name": "stderr",
     "output_type": "stream",
     "text": [
      "/Users/alonhrl/anaconda3/envs/mentor-ai/lib/python3.7/site-packages/IPython/core/interactiveshell.py:3333: UserWarning: To exit: use 'exit', 'quit', or Ctrl-D.\n",
      "  warn(\"To exit: use 'exit', 'quit', or Ctrl-D.\", stacklevel=1)\n"
     ]
    }
   ],
   "source": [
    "from netCDF4 import Dataset\n",
    "import numpy as np\n",
    "from pathlib import Path\n",
    "import sys, getopt\n",
    "import os\n",
    "import argparse\n",
    "from datetime import datetime\n",
    "from datetime import timedelta\n",
    "from datetime import date\n",
    "\n",
    "#Beit Dagan\n",
    "lat = 34.81\n",
    "lon = 32.00\n",
    "\n",
    "interval = 0.05\n",
    "latStart = -59.975\n",
    "lonStart = -59.975\n",
    "\n",
    "\n",
    "def calc_index_by_lat_lon(lat, lon):\n",
    "    \n",
    "    #find nearest lat/lon\n",
    "    latOffset =  (lat+59.975)/interval\n",
    "    lonOffset =  (lon+59.975)/interval\n",
    "    \n",
    "    return(round(latOffset), round(lonOffset))\n",
    "\n",
    "def get_file_date(fileName):\n",
    "    #extract last part in the file name which is the date\n",
    "    filename = os.path.basename(fileName)\n",
    "    tempTuple = os.path.splitext(filename)\n",
    "    filename = tempTuple[0]\n",
    "    fileNameArr = np.array(filename.split(\"-\"))\n",
    "    filedate = fileNameArr[len(fileNameArr)-1]\n",
    "    \n",
    "    #the format is 222001010900Z YYYYMMDDHHMM\n",
    "    year = int(filedate[:4])\n",
    "    month = int(filedate[4:6])\n",
    "    day = int(filedate[6:8])\n",
    "    hour = int(filedate[8:10])\n",
    "    min = int(filedate[10:12])\n",
    "    \n",
    "    return datetime(year, month, day, hour, min)\n",
    "        \n",
    "    \n",
    "\n",
    "def main(argv):\n",
    "    # Create the parser and add arguments\n",
    "    inputDir = ''\n",
    "    parser = argparse.ArgumentParser()\n",
    "    #parser.add_argument('filename')           # positional argument\n",
    "    parser.add_argument('-indir', '--inputDir', help='input directory, if not specified local die is assumed')      # option that takes a value\n",
    "    parser.add_argument('-v', '--verbose', action='store_true')  # on/off flag\n",
    "\n",
    "    # Parse and print the results\n",
    "    args = parser.parse_args()\n",
    "    inputDir = args.inputDir\n",
    "    if(inputDir == None):\n",
    "        inputDir = os. getcwd()\n",
    "    print(inputDir, args.verbose)\n",
    "\n",
    "    cLat, cLon = calc_index_by_lat_lon(lat, lon)\n",
    "\n",
    "    #get ssi for specified coordinates from each file \n",
    "    files = Path(inputDir).glob('*.nc')\n",
    "    for file in files:\n",
    "        fh = Dataset(file, mode='r')\n",
    "        ssi = fh['ssi'][:]\n",
    "        print(\"time: %s, latIndx: %d, lonIndx: %d,  ssi: %.2f\" %(get_file_date(file), cLat, cLon, ssi[cLat,cLon]))\n",
    "        #nctime = fh['time'][:]\n",
    "        #print(\"nctime: \", nctime)\n",
    "  \n",
    "\n",
    "if __name__ == \"__main__\":\n",
    "   main(sys.argv[1:])"
   ]
  },
  {
   "cell_type": "code",
   "execution_count": 4,
   "id": "d5a9a4fc",
   "metadata": {},
   "outputs": [],
   "source": [
    "#Beit Dagan\n",
    "lat = 34.81\n",
    "lon = 32.00\n",
    "\n",
    "interval = 0.05\n",
    "latStart = -59.975\n",
    "lonStart = -59.975"
   ]
  },
  {
   "cell_type": "code",
   "execution_count": 5,
   "id": "eff31b42",
   "metadata": {},
   "outputs": [],
   "source": [
    "#find nearest lat/lon\n",
    "def calc_index_by_lat_lon(lat, lon):\n",
    "    \n",
    "    #find nearest lat/lon\n",
    "    latOffset =  (lat+59.975)/interval\n",
    "    lonOffset =  (lon+59.975)/interval\n",
    "    \n",
    "    return(round(latOffset), round(lonOffset))"
   ]
  },
  {
   "cell_type": "code",
   "execution_count": 8,
   "id": "6b150e1e",
   "metadata": {},
   "outputs": [],
   "source": [
    "def get_file_date(fileName):\n",
    "    #extract last part in the file name which is the date\n",
    "    filename = os.path.basename(fileName)\n",
    "    tempTuple = os.path.splitext(filename)\n",
    "    filename = tempTuple[0]\n",
    "    fileNameArr = np.array(filename.split(\"-\"))\n",
    "    filedate = fileNameArr[len(fileNameArr)-1]\n",
    "    \n",
    "    #the format is 222001010900Z YYYYMMDDHHMM\n",
    "    year = int(filedate[:4])\n",
    "    month = int(filedate[4:6])\n",
    "    day = int(filedate[6:8])\n",
    "    hour = int(filedate[8:10])\n",
    "    min = int(filedate[10:12])\n",
    "    \n",
    "    return datetime(year, month, day, hour, min)"
   ]
  },
  {
   "cell_type": "code",
   "execution_count": 13,
   "id": "4d7a4406",
   "metadata": {},
   "outputs": [
    {
     "ename": "NameError",
     "evalue": "name 'args' is not defined",
     "output_type": "error",
     "traceback": [
      "\u001b[0;31m---------------------------------------------------------------------------\u001b[0m",
      "\u001b[0;31mNameError\u001b[0m                                 Traceback (most recent call last)",
      "\u001b[0;32m<ipython-input-13-b264da79cdd1>\u001b[0m in \u001b[0;36m<module>\u001b[0;34m\u001b[0m\n\u001b[1;32m      4\u001b[0m \u001b[0;32mif\u001b[0m\u001b[0;34m(\u001b[0m\u001b[0minputDir\u001b[0m \u001b[0;34m==\u001b[0m \u001b[0;32mNone\u001b[0m\u001b[0;34m)\u001b[0m\u001b[0;34m:\u001b[0m\u001b[0;34m\u001b[0m\u001b[0;34m\u001b[0m\u001b[0m\n\u001b[1;32m      5\u001b[0m     \u001b[0minputDir\u001b[0m \u001b[0;34m=\u001b[0m \u001b[0mos\u001b[0m\u001b[0;34m.\u001b[0m \u001b[0mgetcwd\u001b[0m\u001b[0;34m(\u001b[0m\u001b[0;34m)\u001b[0m\u001b[0;34m\u001b[0m\u001b[0;34m\u001b[0m\u001b[0m\n\u001b[0;32m----> 6\u001b[0;31m \u001b[0mprint\u001b[0m\u001b[0;34m(\u001b[0m\u001b[0minputDir\u001b[0m\u001b[0;34m,\u001b[0m \u001b[0margs\u001b[0m\u001b[0;34m.\u001b[0m\u001b[0mverbose\u001b[0m\u001b[0;34m)\u001b[0m\u001b[0;34m\u001b[0m\u001b[0;34m\u001b[0m\u001b[0m\n\u001b[0m\u001b[1;32m      7\u001b[0m \u001b[0;34m\u001b[0m\u001b[0m\n\u001b[1;32m      8\u001b[0m \u001b[0mcLat\u001b[0m\u001b[0;34m,\u001b[0m \u001b[0mcLon\u001b[0m \u001b[0;34m=\u001b[0m \u001b[0mcalc_index_by_lat_lon\u001b[0m\u001b[0;34m(\u001b[0m\u001b[0mlat\u001b[0m\u001b[0;34m,\u001b[0m \u001b[0mlon\u001b[0m\u001b[0;34m)\u001b[0m\u001b[0;34m\u001b[0m\u001b[0;34m\u001b[0m\u001b[0m\n",
      "\u001b[0;31mNameError\u001b[0m: name 'args' is not defined"
     ]
    }
   ],
   "source": [
    "# Create the parser and add arguments\n",
    "inputDir = '/Users/alonhrl/Documents/Alon/MA-MSC/development/eumetsat'\n",
    "\n",
    "if(inputDir == None):\n",
    "    inputDir = os. getcwd()\n",
    "print(inputDir, args.verbose)\n",
    "\n",
    "cLat, cLon = calc_index_by_lat_lon(lat, lon)\n",
    "\n",
    "#get ssi for specified coordinates from each file \n",
    "files = Path(inputDir).glob('*.nc')\n",
    "for file in files:\n",
    "    fh = Dataset(file, mode='r')\n",
    "    ssi = fh['ssi'][:]\n",
    "    print(\"time: %s, latIndx: %d, lonIndx: %d,  ssi: %.2f\" %(get_file_date(file), cLat, cLon, ssi[cLat,cLon]))"
   ]
  },
  {
   "cell_type": "code",
   "execution_count": 12,
   "id": "90da8052",
   "metadata": {},
   "outputs": [
    {
     "name": "stderr",
     "output_type": "stream",
     "text": [
      "usage: ipykernel_launcher.py [-h] [-indir INPUTDIR] [-v]\n",
      "ipykernel_launcher.py: error: unrecognized arguments: -f /Users/alonhrl/Library/Jupyter/runtime/kernel-4cf74099-ec55-4a65-b4f6-3e1552839dd4.json\n"
     ]
    },
    {
     "ename": "SystemExit",
     "evalue": "2",
     "output_type": "error",
     "traceback": [
      "An exception has occurred, use %tb to see the full traceback.\n",
      "\u001b[0;31mSystemExit\u001b[0m\u001b[0;31m:\u001b[0m 2\n"
     ]
    }
   ],
   "source": [
    "main('/Users/alonhrl/Documents/Alon/MA-MSC/development/eumetsat')"
   ]
  },
  {
   "cell_type": "code",
   "execution_count": null,
   "id": "b22fabfe",
   "metadata": {},
   "outputs": [],
   "source": []
  }
 ],
 "metadata": {
  "kernelspec": {
   "display_name": "Python 3",
   "language": "python",
   "name": "python3"
  },
  "language_info": {
   "codemirror_mode": {
    "name": "ipython",
    "version": 3
   },
   "file_extension": ".py",
   "mimetype": "text/x-python",
   "name": "python",
   "nbconvert_exporter": "python",
   "pygments_lexer": "ipython3",
   "version": "3.7.3"
  }
 },
 "nbformat": 4,
 "nbformat_minor": 5
}
