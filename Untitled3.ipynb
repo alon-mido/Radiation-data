{
 "cells": [
  {
   "cell_type": "code",
   "execution_count": 12,
   "metadata": {},
   "outputs": [
    {
     "name": "stdout",
     "output_type": "stream",
     "text": [
      "-59.974998, 59.974998 \n"
     ]
    }
   ],
   "source": [
    "import netCDF4\n",
    "\n",
    "# Open the netCDF file\n",
    "nc_file = netCDF4.Dataset('/Users/alonhrl/Documents/Alon/MA-MSC/development/eumetsat/S-OSI_-FRA_-MSG_-DLISSIH_____-202201010800Z.nc', 'r')\n",
    "\n",
    "# Retrieve the coordinate variable for the latitude dimension\n",
    "lat_var = nc_file.variables['lat']\n",
    "lats = lat_var[:]\n",
    "lats_size = len(lats)\n",
    "\n",
    "# Retrieve the coordinate variable for the longitude dimension\n",
    "lon_var = nc_file.variables['lon']\n",
    "lons = lon_var[:]\n",
    "\n",
    "print(\"%f, %f \"% (lats[0], lats[lats_size-1]))\n"
   ]
  },
  {
   "cell_type": "code",
   "execution_count": 8,
   "metadata": {},
   "outputs": [
    {
     "name": "stdout",
     "output_type": "stream",
     "text": [
      "True True\n"
     ]
    },
    {
     "ename": "KeyError",
     "evalue": "'data'",
     "output_type": "error",
     "traceback": [
      "\u001b[0;31m---------------------------------------------------------------------------\u001b[0m",
      "\u001b[0;31mKeyError\u001b[0m                                  Traceback (most recent call last)",
      "\u001b[0;32m<ipython-input-8-7e2707973349>\u001b[0m in \u001b[0;36m<module>\u001b[0;34m\u001b[0m\n\u001b[1;32m     12\u001b[0m \u001b[0;34m\u001b[0m\u001b[0m\n\u001b[1;32m     13\u001b[0m \u001b[0;31m# Retrieve the data at the desired coordinates\u001b[0m\u001b[0;34m\u001b[0m\u001b[0;34m\u001b[0m\u001b[0m\n\u001b[0;32m---> 14\u001b[0;31m \u001b[0mdata_var\u001b[0m \u001b[0;34m=\u001b[0m \u001b[0mnc_file\u001b[0m\u001b[0;34m.\u001b[0m\u001b[0mvariables\u001b[0m\u001b[0;34m[\u001b[0m\u001b[0;34m'data'\u001b[0m\u001b[0;34m]\u001b[0m\u001b[0;34m\u001b[0m\u001b[0m\n\u001b[0m\u001b[1;32m     15\u001b[0m \u001b[0mdata\u001b[0m \u001b[0;34m=\u001b[0m \u001b[0mdata_var\u001b[0m\u001b[0;34m[\u001b[0m\u001b[0mlat_idx\u001b[0m\u001b[0;34m,\u001b[0m \u001b[0mlon_idx\u001b[0m\u001b[0;34m]\u001b[0m\u001b[0;34m\u001b[0m\u001b[0m\n\u001b[1;32m     16\u001b[0m \u001b[0;34m\u001b[0m\u001b[0m\n",
      "\u001b[0;31mKeyError\u001b[0m: 'data'"
     ]
    }
   ],
   "source": [
    "lat_max = 34.82\n",
    "lat_min = 34.80\n",
    " \n",
    "lon_max = 32.05\n",
    "lon_min = 31.95\n",
    "\n",
    "# Determine the indices of the desired coordinates\n",
    "lat_idx = (lats >= lat_min) & (lats <= lat_max)\n",
    "lon_idx = (lons >= lon_min) & (lons <= lon_max)\n",
    "\n",
    "print(lat_idx, lon_idx)\n",
    "\n",
    "# Retrieve the data at the desired coordinates\n",
    "data_var = nc_file.variables['data']\n",
    "data = data_var[lat_idx, lon_idx]\n",
    "\n",
    "# Close the netCDF file\n",
    "nc_file.close()"
   ]
  },
  {
   "cell_type": "code",
   "execution_count": null,
   "metadata": {},
   "outputs": [],
   "source": [
    "# iterate recursively\n",
    "import glob\n",
    "#inputDir = '/Users/alonhrl/Documents/Alon/MA-MSC/development/Eumetsat data'\n",
    "inputDir = '/Users/alonhrl/Documents/Alon/MA-MSC/development/eumetsat'\n",
    "days_in_month = 31\n",
    "num_of_radiation_hours = 24\n",
    "#samples_start_hour = 8\n",
    "\n",
    "#calculate indices for required lattitude & longitude\n",
    "cLat, cLon = calc_index_by_lat_lon(lat, lon)\n",
    "\n",
    "a_shape = (days_in_month+1, num_of_radiation_hours+1)  # we add one so the cell index will match day and hour\n",
    "monthly_rad = np.zeros(a_shape, dtype=np.int16)\n",
    "\n",
    "count = 0\n",
    "for filename in glob.iglob(inputDir + '**/**', recursive=True):\n",
    "    file_name, file_extension = os.path.splitext(filename)\n",
    "    if file_extension == '.nc':\n",
    "        count +=1\n",
    "        \n",
    "        nc_file = netCDF4.Dataset(filename)\n",
    "        \n",
    "        # Push radiation value into the month array\n",
    "        fh = Dataset(filename, mode='r')\n",
    "        ssi = fh['ssi'][:]\n",
    "        print(\"time: %s, latIndx: %d, lonIndx: %d,  ssi: %.2f\" %(get_file_date(filename), cLat, cLon, ssi[cLat,cLon]))\n",
    "        day, hour = get_file_day_and_hour(filename)\n",
    "                \n",
    "        #if value is 'nan' set to 0\n",
    "        if type(ssi[cLat,cLon]) is not np.float64:\n",
    "            monthly_rad[day][hour] = 0\n",
    "        else:\n",
    "            monthly_rad[day][hour] = ssi[cLat,cLon]\n",
    "\n",
    "#remove first row (no day '0')\n",
    "monthly_rad = monthly_rad[1:]\n",
    "\n",
    "print (monthly_rad)        \n",
    "print (\"Processed %d files!\" % (count))"
   ]
  }
 ],
 "metadata": {
  "kernelspec": {
   "display_name": "eumetsat",
   "language": "python",
   "name": "eumetsat"
  },
  "language_info": {
   "codemirror_mode": {
    "name": "ipython",
    "version": 3
   },
   "file_extension": ".py",
   "mimetype": "text/x-python",
   "name": "python",
   "nbconvert_exporter": "python",
   "pygments_lexer": "ipython3",
   "version": "3.7.0"
  }
 },
 "nbformat": 4,
 "nbformat_minor": 2
}
