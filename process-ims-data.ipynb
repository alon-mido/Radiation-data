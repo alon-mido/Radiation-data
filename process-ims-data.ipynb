{
 "cells": [
  {
   "cell_type": "code",
   "execution_count": 63,
   "metadata": {},
   "outputs": [],
   "source": [
    "import numpy as np"
   ]
  },
  {
   "cell_type": "code",
   "execution_count": 72,
   "metadata": {},
   "outputs": [
    {
     "name": "stdout",
     "output_type": "stream",
     "text": [
      "-2147483648\n",
      "-2147483648\n",
      "-2147483648\n",
      "[[  0   7   8   9  10  11  12  13  14  15  16  17  18  19]\n",
      " [  0  40 193 391 535 687 753 765 673 537 243 120  11   0]\n",
      " [  0  28 153 341 491 721 728 683 456 304 190  75   8   0]\n",
      " [  0  17  95 345 295 313 261 440 433 378 127  89  19   0]\n",
      " [  0  22 217 401 569 751 798 721 710 528 483 155  16   0]\n",
      " [  0  48 216 430 620 746 801 796 719 580 390 176  21   0]\n",
      " [  0  33 100 371 450 526 559 658 501 378 271 145  19   0]\n",
      " [  0  31 202 445 473 688 798 819 699 465 288 142  22   0]\n",
      " [  0  40 175 324 439 615 559 473 469 472 380 184  15   0]\n",
      " [  0  15 121 218 479 566 544 695 706 437 225  86   9   0]\n",
      " [  1  81 124 228 652 721 836 781 795 421 229 100  29   0]\n",
      " [  0  19  82 156 219 319 374 674 635 408 182  66  13   0]\n",
      " [  0  32 114 173 141 196 247 278 715 349  76  36  14   0]\n",
      " [  1  86 321 525 729 255 470 297 265 196 149 119  28   0]\n",
      " [  0  26 124 231 418 718 905 581 740 651 313  95  16   0]\n",
      " [  0  67  69 382 353 819 570 684 662 669 443 249  47   0]\n",
      " [  1  73 318 543 735 711 672 831 834 460 220  70  11   0]\n",
      " [  1  65 237 442 658 794 821 855 766 625 425 199  31   0]\n",
      " [  1  21  68 283 357 120  54  43  76 312  87  82  21   0]\n",
      " [  2  64 142 263 545 795 782 688 669 510 368 164  30   0]\n",
      " [  1  58 178 382 720 665 731 573 597 446 434 158  25   0]\n",
      " [  1  37  56  77 370 480 451 357 347 250 129  50   8   0]\n",
      " [  3  95 323 528 710 781 907 887 788 666 468 243  41   0]\n",
      " [  3  95 304 571 635 574 929 905 827 703 480 246  29   0]\n",
      " [  1  52  24 119 181 303 720 626 400 136 298 182  39   0]\n",
      " [  3  65 307 427 497 679 811 732 226 355 392 187  36   0]\n",
      " [  4 136 346 561 722 800 912 897 814 671 473 245  46   0]\n",
      " [  4 127 366 581 731 857 935 939 771 698 487 213  34   0]\n",
      " [  5 144 380 602 776 888   0   0 832 686 488 262  51   0]\n",
      " [  6 131 343 516 748 792 809 880 784 624 432 219  45   0]\n",
      " [  3 115 346 572 749 866 917 906 819 623 425 218  52   0]\n",
      " [  5  86 365 578 738 833 880 890 835 662 436 210  62   0]]\n"
     ]
    }
   ],
   "source": [
    "#load IMS data (file should not include non-numbers, add first row to be the hours, i.e. 6,7,8...)\n",
    "rdata = np.genfromtxt('/Users/alonhrl/Documents/Alon/MA-MSC/development/ims-data/9-21-4-22-months-data/ims-03-22.csv', delimiter=',',  missing_values=0)\n",
    "rdata = rdata.astype('int32')\n",
    "\n",
    "#clear any noise\n",
    "with np.nditer(rdata, op_flags=['readwrite']) as it:\n",
    "    for x in it:\n",
    "        if x<0 or x>10000:\n",
    "            print(x)\n",
    "            x[...] = 0\n",
    "\n",
    "print(rdata)"
   ]
  },
  {
   "cell_type": "markdown",
   "metadata": {},
   "source": [
    "##### Remove upper row which are the hours"
   ]
  },
  {
   "cell_type": "code",
   "execution_count": null,
   "metadata": {},
   "outputs": [],
   "source": [
    "rdata = rdata[1:]\n",
    "print(rdata)"
   ]
  },
  {
   "cell_type": "markdown",
   "metadata": {},
   "source": [
    "##### Calculate accumulated radiation per day"
   ]
  },
  {
   "cell_type": "code",
   "execution_count": null,
   "metadata": {},
   "outputs": [],
   "source": [
    "dsum = rdata.sum(axis=1)\n",
    "print (dsum)"
   ]
  },
  {
   "cell_type": "code",
   "execution_count": null,
   "metadata": {},
   "outputs": [],
   "source": [
    "# Add the days row\n",
    "row, col = rdata.shape\n",
    "days = np.empty(row, dtype=object)\n",
    "for x in range(row):\n",
    "    days[x] = x+1"
   ]
  },
  {
   "cell_type": "code",
   "execution_count": null,
   "metadata": {},
   "outputs": [],
   "source": [
    "daySum = np.vstack([days, dsum])\n",
    "print (daySum)"
   ]
  },
  {
   "cell_type": "markdown",
   "metadata": {},
   "source": [
    "##### Add Eumetsat daily radiation"
   ]
  },
  {
   "cell_type": "code",
   "execution_count": null,
   "metadata": {},
   "outputs": [],
   "source": [
    "eumetrdata = np.genfromtxt('/Users/alonhrl/Documents/Alon/MA-MSC/development/Eumetsat data/9-21-4-22-months-data/eumetsat-process-to-csv/mon_eumetsat_rad-03-22.csv', delimiter=',', dtype=np.int16)\n",
    "eumetrdata = eumetrdata.astype('int16')\n",
    "\n",
    "# calculate daily radiation\n",
    "eumdsum = eumetrdata.sum(axis=1)\n",
    "print (eumdsum)"
   ]
  },
  {
   "cell_type": "code",
   "execution_count": null,
   "metadata": {},
   "outputs": [],
   "source": [
    "import matplotlib.pyplot as plt\n",
    "\n",
    "x = daySum[0]\n",
    "ims_daily = daySum[1]\n",
    "eumetsat_daily = eumdsum\n",
    "\n",
    "fig, ax = plt.subplots()\n",
    "\n",
    "x = daySum[0]\n",
    "ax.plot(x, eumetsat_daily, \"-b\" ,label=\"eumetsat_daily\")\n",
    "ax.plot(x, ims_daily, \"-r\", label=\"ims_daily\")\n",
    "ax.set_xticks(np.arange(0, len(x)+1, 1))\n",
    "ax.set_xlabel('days', fontsize=14)\n",
    "ax.set_ylabel('rad', fontsize=14)\n",
    "\n",
    "fig.suptitle('Daily radiation', fontsize=14)\n",
    "plt.rc('legend', fontsize=14)\n",
    "plt.legend(loc=\"upper left\")\n",
    "plt.rcParams[\"figure.figsize\"] = (20,8)\n",
    "plt.rcParams.update({'font.size': 12})\n",
    "##plt.rc('xtick', labelsize=8)\n",
    "plt.draw()"
   ]
  },
  {
   "cell_type": "code",
   "execution_count": null,
   "metadata": {},
   "outputs": [],
   "source": []
  }
 ],
 "metadata": {
  "kernelspec": {
   "display_name": "Python 3",
   "language": "python",
   "name": "python3"
  },
  "language_info": {
   "codemirror_mode": {
    "name": "ipython",
    "version": 3
   },
   "file_extension": ".py",
   "mimetype": "text/x-python",
   "name": "python",
   "nbconvert_exporter": "python",
   "pygments_lexer": "ipython3",
   "version": "3.7.3"
  }
 },
 "nbformat": 4,
 "nbformat_minor": 2
}
